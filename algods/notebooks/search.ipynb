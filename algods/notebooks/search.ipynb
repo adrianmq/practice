{
 "cells": [
  {
   "cell_type": "code",
   "execution_count": 1,
   "metadata": {},
   "outputs": [
    {
     "name": "stdout",
     "output_type": "stream",
     "text": [
      "Element found at index 3\n"
     ]
    }
   ],
   "source": [
    "# linear\n",
    "# https://www.geeksforgeeks.org/linear-search/\n",
    "\n",
    "# if x is present return its location, otherwise return -1\n",
    "def search(arr, in_range, x):\n",
    "    for i in range(0, in_range):\n",
    "        if (arr[i] == x):\n",
    "            return i;\n",
    "    return -1;\n",
    "\n",
    "arr = [2,3,4,10,40]\n",
    "x = 10\n",
    "n = len(arr)\n",
    "result = search(arr, n, x)\n",
    "\n",
    "if (result == -1):\n",
    "    print('Element not present in array')\n",
    "else:\n",
    "    print('Element found at index', result)"
   ]
  },
  {
   "cell_type": "code",
   "execution_count": 10,
   "metadata": {},
   "outputs": [
    {
     "name": "stdout",
     "output_type": "stream",
     "text": [
      "0 5 4 3\n",
      "2 3 2 6\n"
     ]
    }
   ],
   "source": [
    "# i = 0\n",
    "# A = [5, 4, 3, 2, 6]\n",
    "# while (i < len(A) - 1):\n",
    "#     a,b,c = A[i:i+3]\n",
    "#     print(i,a,b,c)\n",
    "#     i +=2\n",
    "\n",
    "def solution(A):\n",
    "    # write your code in Python 3.6\n",
    "    s = 0\n",
    "    l = None\n",
    "    i = 0\n",
    "    while (i < len(A) - 2):\n",
    "        a,b,c = A[i:i+3]\n",
    "#         if l is not None:\n",
    "#             a = l\n",
    "        \n",
    "#         l = None\n",
    "#         if a > b:\n",
    "#             if b >= c:\n",
    "#                 s += 1\n",
    "#         elif a == b:\n",
    "#             s += 1\n",
    "#         else:\n",
    "#             if b <= c:\n",
    "#                 l = b - 1\n",
    "#                 s += 1\n",
    "\n",
    "        # if a > b:\n",
    "        #     if b >= c:\n",
    "        #         b = c - 1\n",
    "        #         C[i+1] = b\n",
    "        # elif a == b:\n",
    "        #     if b >= c:\n",
    "        #         b = c - 1\n",
    "        #     else:\n",
    "        #         b = a - 1\n",
    "        #     C[i+1] = b\n",
    "        # else:\n",
    "        #     if b <= c:\n",
    "        #         c = b - 1\n",
    "        #         C[i+2] = c\n",
    "        i +=2\n",
    "    \n",
    "    # return len(C.keys())\n",
    "    return s\n"
   ]
  },
  {
   "cell_type": "code",
   "execution_count": 14,
   "metadata": {},
   "outputs": [
    {
     "name": "stdout",
     "output_type": "stream",
     "text": [
      "5 4 3\n",
      "4 3 2\n",
      "3 2 6\n"
     ]
    }
   ],
   "source": [
    "s = 0\n",
    "i = 1\n",
    "A = [5, 4, 3, 2, 6]\n",
    "while (i < len(A) - 1):\n",
    "    a,b,c = A[i-1:i+2]\n",
    "    print(a,b,c)\n",
    "    if a > b:\n",
    "        if b >= c:\n",
    "            s += 1\n",
    "    elif a == b:\n",
    "        s += 1\n",
    "    else:\n",
    "        if b <= c:\n",
    "            s += 1\n",
    "    i +=1"
   ]
  },
  {
   "cell_type": "code",
   "execution_count": 8,
   "metadata": {},
   "outputs": [
    {
     "name": "stdout",
     "output_type": "stream",
     "text": [
      "Element is present at index 3\n"
     ]
    }
   ],
   "source": [
    "# Exponential Search\n",
    "  \n",
    "# A recurssive binary search function returns  \n",
    "# location  of x in given array arr[l..r] is  \n",
    "# present, otherwise -1 \n",
    "def binarySearch( arr, l, r, x): \n",
    "    if r >= l: \n",
    "        mid = (int) (l + ( r-l ) / 2)\n",
    "          \n",
    "        # If the element is present at  \n",
    "        # the middle itself \n",
    "        if arr[mid] == x: \n",
    "            return mid \n",
    "          \n",
    "        # If the element is smaller than mid,  \n",
    "        # then it can only be present in the  \n",
    "        # left subarray \n",
    "        if arr[mid] > x: \n",
    "            return binarySearch(arr, l,  \n",
    "                                mid - 1, x) \n",
    "          \n",
    "        # Else the element can only be \n",
    "        # present in the right \n",
    "        return binarySearch(arr, mid + 1, r, x) \n",
    "          \n",
    "    # We reach here if the element is not present \n",
    "    return -1\n",
    "  \n",
    "# Returns the position of first \n",
    "# occurence of x in array \n",
    "def exponentialSearch(arr, n, x): \n",
    "    # IF x is present at first  \n",
    "    # location itself \n",
    "    if arr[0] == x: \n",
    "        return 0\n",
    "          \n",
    "    # Find range for binary search  \n",
    "    # j by repeated doubling \n",
    "    i = 1\n",
    "    while i < n and arr[i] <= x: \n",
    "        i = i * 2\n",
    "      \n",
    "    # Call binary search for the found range \n",
    "    return binarySearch( arr, i / 2,  \n",
    "                         min(i, n), x) \n",
    "\n",
    "#\n",
    "arr = [2, 3, 4, 10, 40] \n",
    "n = len(arr) \n",
    "x = 10\n",
    "result = exponentialSearch(arr, n, x) \n",
    "if result == -1: \n",
    "    print(\"Element not found in the array\")\n",
    "else: \n",
    "    print(\"Element is present at index %d\"%(result))\n"
   ]
  },
  {
   "cell_type": "code",
   "execution_count": null,
   "metadata": {},
   "outputs": [],
   "source": []
  }
 ],
 "metadata": {
  "kernelspec": {
   "display_name": "Python 3",
   "language": "python",
   "name": "python3"
  },
  "language_info": {
   "codemirror_mode": {
    "name": "ipython",
    "version": 3
   },
   "file_extension": ".py",
   "mimetype": "text/x-python",
   "name": "python",
   "nbconvert_exporter": "python",
   "pygments_lexer": "ipython3",
   "version": "3.7.3"
  }
 },
 "nbformat": 4,
 "nbformat_minor": 2
}
